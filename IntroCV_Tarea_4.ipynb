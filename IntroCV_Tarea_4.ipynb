{
 "cells": [
  {
   "attachments": {},
   "cell_type": "markdown",
   "metadata": {},
   "source": [
    "<div>\n",
    "<img src=\"https://i.ibb.co/v3CvVz9/udd-short.png\" width=\"150\"/>\n",
    "    <br>\n",
    "    <strong>Universidad del Desarrollo</strong><br>\n",
    "    <em>Magíster en Data Science</em><br>\n",
    "    <em>Profesor: Takeshi Asahi</em><br>\n",
    "    <em>Asignatura: Visión Computacional</em><br>\n",
    "\n",
    "</div>\n",
    "\n",
    "# **Tarea 4**\n",
    "\n",
    "*Fecha de Entrega: Lunes 09, Junio 2025.*\n",
    "\n",
    "**Nombre Estudiante**: Victor Saldivia Vera"
   ]
  },
  {
   "attachments": {},
   "cell_type": "markdown",
   "metadata": {},
   "source": [
    "1. Proponer mejoras al sistema diseñado e implementado originalmete.\n",
    "\n",
    "2. Volver a investigar, aplicar y/o ajustar un algoritmo diferente al algoritmo utilizado trabajado en la Tarea 2, o bien una extensión de éste. \n",
    "\n",
    "3. Implementar métricas de comparación, por ejemplo precisión o una matriz de confusión, junto con otros indicadores tales como tiempos de ejecución de el procesamiento del dataset. La comparación debiera ser con el algoritmo de la Tarea 2. Si resultó que no fue satisfactorio en esta Tarea 2, implementar más de 1 algoritmo o procedimiento para esta Tarea, de manera de poder realizar la comparación mencionada.\n",
    "\n",
    "4. Escribir un informe o entregar el notebook con comentarios y documentación, incluyendo el análisis (comentando) de la comparación con los resultados de la Tarea 2. Notar que pudiera ser que el resultado es inferior al de la Tarea 2, lo importante es el comentario o discusión del por qué se mejoró o empeoraron los nuevos resultados.\n",
    "\n",
    "Tan o más importante que los resultados propiamente tales es la discusión y comentarios acerca de la implementación y los resultados. Como siempre, apoyarse en tablas, gráficos e imágenes.\n"
   ]
  },
  {
   "cell_type": "markdown",
   "metadata": {},
   "source": [
    "### **Rúbrica**\n",
    "\n",
    "**1. Presentación y Estructura del Informe** (25%)\n",
    "* Muy bueno (5.1 - 7.0): Estructura lógica y clara que facilita la comprensión. Muy buena redacción y ortografía, junto con el y uso correcto de formatos.\n",
    "* Necesita Mejoras (3.1 - 5.0): Estructura funcional pero mejorable. Orden, redacción y ortografía con imprecisiones menores.\n",
    "* Deficiente (1.0 - 3.0): Carece de estructura, contenidos desordenados. Redacción y ortografía deficientes que dificultan la comprensión.\n",
    "\n",
    "**2. Implementación y Comparativa Técnica** (45%)\n",
    "* Muy bueno (5.1 - 7.0): Implementa exitosamente un algoritmo nuevo o una extensión significativa. Aplica métricas de comparación apropiadas (ej. precisión, accuracy, recall, IoU) y de rendimiento. Presenta resultados comparativos de forma clara con tablas y/o gráficos.\n",
    "* Necesita Mejoras (3.1 - 5.0): La mejora implementada es mínima. Las métricas de comparación son básicas (ej. solo tiempo) o se aplican sin rigor. La comparación es poco clara o incompleta.\n",
    "* Deficiente (1.0 - 3.0): No implementa un nuevo algoritmo. No usa métricas de comparación o son irrelevantes. No presenta una comparación explícita de resultados.\n",
    "\n",
    "**3. Análisis y Discusión de Resultados** (30%)\n",
    "* Muy bueno (5.1 - 7.0): Incluye un análisis crítico y profundo de la comparación, explicando el porqué de los resultados. Analiza los pros y contras de cada algoritmo (ej. precisión vs. costo computacional) con comentarios bien fundamentados en las comparaciones. Se incluyen comentarios después de las tablas o gráficos, como también una conclusión final.\n",
    "* Necesita Mejoras (3.1 - 5.0): Análisis superficial que solo describe qué algoritmo fue \"mejor\", sin explicar las razones técnicas. La discusión de ventajas y desventajas es genérica.\n",
    "* Deficiente (1.0 - 3.0): Sin análisis comparativo; solo repite datos sin interpretación. No discute las causas del desempeño ni incluye comentarios relevantes."
   ]
  },
  {
   "cell_type": "markdown",
   "metadata": {},
   "source": [
    "### **1. Introducción**"
   ]
  },
  {
   "cell_type": "markdown",
   "metadata": {},
   "source": [
    "En esta Tarea 3 se busca extender y comparar el desempeño de nuevos algoritmos de clasificación de imágenes frente al sistema implementado en la Tarea 2. En la tarea anterior se entrenó una red convolucional básica (``CNN``) desde cero, ahora se propone al menos dos estrategias adicionales: \n",
    "\n",
    "- La incorporación de transferencia de aprendizaje mediante un modelo preentrenado (``MobileNetV2``).\n",
    "- El uso de un clasificador ``SVM`` alimentado con *“features”* extraídas de la ``CNN``. \n",
    "\n",
    "El objetivo es medir mejoras o degradaciones en métricas de calidad como: *accuracy*, *precision*, *recall* y *F1-score* y analizar el costo computacional en términos de tiempos de entrenamiento.  "
   ]
  },
  {
   "cell_type": "markdown",
   "metadata": {},
   "source": [
    "### **2. Metodología**"
   ]
  },
  {
   "cell_type": "markdown",
   "metadata": {},
   "source": [
    "#### **2.1 Descripción del Dataset**\n",
    "Para esta tarea se va a utilizar el mismo subconjunto balanceado del dataset **PlantVillage** de la Tarea 2, compuesto por 200 imágenes (100 por clase) ya preprocesadas en la Tarea 1. Las imágenes fueron redimensionadas a 128×128 píxeles y organizadas en dos clases:\n",
    "\n",
    "- `Tomato_Healthy`\n",
    "- `Tomato_Early_Blight`\n",
    "\n",
    "Añadir que en esta etapa se usarán únicamente las imágenes de la carpeta `resized`, ya que mantienen los detalles visuales importantes, a diferencia de la versión suavizada (`filtered`) que podría afectar negativamente el aprendizaje.\n",
    "\n",
    "#### **2.1 Herramientas Utilizadas**\n",
    "\n",
    "**Versión de Python**\n",
    "- 3.10.16\n",
    "\n",
    "**Otras Herramientas**\n",
    "- Anaconda\n",
    "- GitHub\n",
    "- VS Code\n",
    "\n",
    "**Fuente del Dataset**\n",
    "- Kaggle: https://www.kaggle.com/datasets/emmarex/plantdisease \n",
    "\n",
    "**Repositorio GitHub de la Tarea N°4**\n",
    "- Tarea 4: https://github.com/Vikktor93/Tarea4-Introduccion-Vision-Computacional\n",
    "\n",
    "**Repositorio GitHub de la Tarea N°2 (Tarea Anterior)**\n",
    "- Tarea 2: https://github.com/Vikktor93/Tarea2-Introduccion-Vision-Computacional\n",
    "\n",
    "#### **2.2 Preprocesamiento y Data Augmentation**  \n",
    "Todas las imágenes pasan por un reescalado de píxeles a rango [0,1]. Además, en el generador de datos de entrenamiento se aplica rotaciones aleatorias (±30°), desplazamientos horizontales y verticales (±10%), zooms, cortes tipo ``_shear_`` y volteos horizontales. El objetivo de estas transformaciones buscan enriquecer la variedad de ejemplos y mejorar la capacidad de generalización del modelo ante variaciones geométricas y de iluminación. Este punto anterior, no se trato en la Tarea 2.\n"
   ]
  },
  {
   "cell_type": "markdown",
   "metadata": {},
   "source": [
    "### **3. Importación de Librerías**"
   ]
  },
  {
   "cell_type": "code",
   "execution_count": 1,
   "metadata": {},
   "outputs": [],
   "source": [
    "import os\n",
    "import time\n",
    "import numpy as np\n",
    "import pandas as pd\n",
    "import seaborn as sns  \n",
    "import matplotlib.pyplot as plt\n",
    "import tensorflow as tf\n",
    "from tensorflow.keras.models import Model\n",
    "from tensorflow.keras.layers import (\n",
    "    Conv2D, MaxPooling2D, Flatten, Dense, Dropout,\n",
    "    BatchNormalization, GlobalAveragePooling2D, Input\n",
    ")\n",
    "from tensorflow.keras.preprocessing.image import ImageDataGenerator\n",
    "from tensorflow.keras.optimizers import Adam\n",
    "from sklearn.metrics import (\n",
    "    classification_report,\n",
    "    confusion_matrix,\n",
    "    precision_recall_curve,\n",
    "    roc_curve,\n",
    "    auc\n",
    ")"
   ]
  },
  {
   "cell_type": "markdown",
   "metadata": {},
   "source": [
    "### **4. Configuración de Parámetros**"
   ]
  },
  {
   "cell_type": "markdown",
   "metadata": {},
   "source": [
    "Para organizar mejor los parámetros se crea un diccionario ``config`` con todos los parámetros ajustables rutas, tamaño como las de imagen, epochs, learning rate, etc. Así no se instancian las variables dentro de cada función."
   ]
  },
  {
   "cell_type": "code",
   "execution_count": 2,
   "metadata": {},
   "outputs": [],
   "source": [
    "config = {\n",
    "    \"ruta\": \"dataset/resized\",     \n",
    "    \"target_size\": (224, 224),\n",
    "    \"batch_size\": 32,\n",
    "    \"epochs\": 20,\n",
    "    \"learning_rate\": 1e-4,\n",
    "    \"dropout_rate\": 0.5,\n",
    "    \"validation_split\": 0.2,\n",
    "    \"shuffle\": True,\n",
    "    \"seed\": 42\n",
    "}\n"
   ]
  },
  {
   "cell_type": "markdown",
   "metadata": {},
   "source": [
    "### **5. Función de Carga y Preprocesamiento del Dataset**"
   ]
  },
  {
   "cell_type": "markdown",
   "metadata": {},
   "source": [
    "En la Tarea 2, la sección donde se define y aplica los generadores de datos con Keras, la lógica estaba guardada en variables, pero no se utilizaban funciones. Ahora como optimización del código y para una mejor reutilización, se crea la función def cargar_dataset, que devuelve los dos generadores (``train_generator`` y ``val_generator``) que cargan las imágenes desde un directorio con ``ImageDataGenerator``, reescalan pixeles a [0,1] y aplica data augmentation. De esta forma se devuelve generadores de entrenamiento y validación.\n"
   ]
  },
  {
   "cell_type": "code",
   "execution_count": 3,
   "metadata": {},
   "outputs": [],
   "source": [
    "def cargar_dataset(ruta, target_size, batch_size, validation_split, seed):\n",
    "    datagen = ImageDataGenerator(\n",
    "        rescale=1.0/255.0,\n",
    "        rotation_range=30,\n",
    "        width_shift_range=0.1,\n",
    "        height_shift_range=0.1,\n",
    "        shear_range=0.1,\n",
    "        zoom_range=0.2,\n",
    "        horizontal_flip=True,\n",
    "        fill_mode='nearest',\n",
    "        validation_split=validation_split\n",
    "    )\n",
    "\n",
    "    val_datagen = ImageDataGenerator(\n",
    "        rescale=1.0/255.0,\n",
    "        validation_split=validation_split\n",
    "    )\n",
    "\n",
    "    train_generator = datagen.flow_from_directory(\n",
    "        ruta,\n",
    "        target_size=target_size,\n",
    "        batch_size=batch_size,\n",
    "        class_mode='categorical',\n",
    "        subset='training',\n",
    "        shuffle=True,\n",
    "        seed=seed\n",
    "    )\n",
    "\n",
    "    val_generator = val_datagen.flow_from_directory(\n",
    "        ruta,\n",
    "        target_size=target_size,\n",
    "        batch_size=batch_size,\n",
    "        class_mode='categorical',\n",
    "        subset='validation',\n",
    "        shuffle=False,\n",
    "        seed=seed\n",
    "    )\n",
    "\n",
    "    return train_generator, val_generator"
   ]
  },
  {
   "cell_type": "markdown",
   "metadata": {},
   "source": [
    "### **6. Función para crear modelo CNN**"
   ]
  },
  {
   "cell_type": "markdown",
   "metadata": {},
   "source": [
    "Se construye una CNN básica con capas convolucionales, BatchNormalization y Dropout. Se compila con optimizador Adam y loss categorical_crossentropy."
   ]
  },
  {
   "cell_type": "code",
   "execution_count": 7,
   "metadata": {},
   "outputs": [],
   "source": [
    "def crear_modelo_cnn(input_shape, num_classes, dropout_rate):\n",
    "    inputs = Input(shape=input_shape)\n",
    "\n",
    "    x = Conv2D(32, (3, 3), padding='same')(inputs)\n",
    "    x = BatchNormalization()(x)\n",
    "    x = tf.keras.layers.Activation('relu')(x)\n",
    "    x = MaxPooling2D((2, 2))(x)\n",
    "\n",
    "    x = Conv2D(64, (3, 3), padding='same')(x)\n",
    "    x = BatchNormalization()(x)\n",
    "    x = tf.keras.layers.Activation('relu')(x)\n",
    "    x = MaxPooling2D((2, 2))(x)\n",
    "\n",
    "    x = Conv2D(128, (3, 3), padding='same')(x)\n",
    "    x = BatchNormalization()(x)\n",
    "    x = tf.keras.layers.Activation('relu')(x)\n",
    "    x = MaxPooling2D((2, 2))(x)\n",
    "\n",
    "    x = Flatten()(x)\n",
    "    x = Dense(256, activation='relu', kernel_regularizer=tf.keras.regularizers.l2(0.001))(x)\n",
    "    x = Dropout(dropout_rate)(x)\n",
    "    outputs = Dense(num_classes, activation='softmax')(x)\n",
    "\n",
    "    model = Model(inputs=inputs, outputs=outputs)\n",
    "    model.compile(\n",
    "        optimizer=Adam(learning_rate=config[\"learning_rate\"]),\n",
    "        loss='categorical_crossentropy',\n",
    "        metrics=['accuracy']\n",
    "    )\n",
    "    return model\n"
   ]
  },
  {
   "cell_type": "markdown",
   "metadata": {},
   "source": [
    "### **7. Función para crear modelo con Transfer Learning (MobileNetV2)**"
   ]
  },
  {
   "cell_type": "markdown",
   "metadata": {},
   "source": [
    "En este apartado se crea un modelo basado en MobileNetV2 preentrenado en ImageNet. Se congela el backbonebackbone (MobileNetV2) y se añade una cabeza densa para clasificación."
   ]
  },
  {
   "cell_type": "code",
   "execution_count": null,
   "metadata": {},
   "outputs": [],
   "source": [
    "def crear_modelo_transfer_learning(input_shape, num_classes, dropout_rate, learning_rate):\n",
    "    # Se carga ek MobileNetV2 sin la capa superior\n",
    "    base_model = tf.keras.applications.MobileNetV2(\n",
    "        input_shape=input_shape,\n",
    "        include_top=False,\n",
    "        weights='imagenet'\n",
    "    )\n",
    "    base_model.trainable = False  # Se congela todos los pesos del backbone\n",
    "\n",
    "    # Construcción de nuevas capas encima\n",
    "    x = base_model.output\n",
    "    x = GlobalAveragePooling2D()(x)\n",
    "    x = Dense(128, activation='relu')(x)\n",
    "    x = Dropout(dropout_rate)(x)\n",
    "    outputs = Dense(num_classes, activation='softmax')(x)\n",
    "\n",
    "    model = Model(inputs=base_model.input, outputs=outputs)\n",
    "    model.compile(\n",
    "        optimizer=Adam(learning_rate=learning_rate),\n",
    "        loss='categorical_crossentropy',\n",
    "        metrics=['accuracy']\n",
    "    )\n",
    "    return model"
   ]
  },
  {
   "cell_type": "markdown",
   "metadata": {},
   "source": [
    " ### **8. Función para entrenar y medir tiempos**"
   ]
  },
  {
   "cell_type": "markdown",
   "metadata": {},
   "source": [
    "A continuación, se entrena el modelo y mide el tiempo de entrenamiento. Además, devuelve el historial y el tiempo total empleado."
   ]
  },
  {
   "cell_type": "code",
   "execution_count": 9,
   "metadata": {},
   "outputs": [],
   "source": [
    "def entrenar_modelo(model, train_gen, val_gen, epochs):\n",
    "    t0 = time.time()\n",
    "    historial = model.fit(\n",
    "        train_gen,\n",
    "        validation_data=val_gen,\n",
    "        epochs=epochs,\n",
    "        verbose=1\n",
    "    )\n",
    "    tiempo_entrenamiento = time.time() - t0\n",
    "    return historial, tiempo_entrenamiento"
   ]
  },
  {
   "cell_type": "markdown",
   "metadata": {},
   "source": [
    " ### **9. Función para evaluar e imprimir métricas**"
   ]
  },
  {
   "cell_type": "markdown",
   "metadata": {},
   "source": [
    "Se realiza la predicción en el conjunto de validación, se calcula la matriz de confusión y el classification report. Mide también tiempo de inferencia por batch."
   ]
  },
  {
   "cell_type": "code",
   "execution_count": 10,
   "metadata": {},
   "outputs": [],
   "source": [
    "def evaluar_modelo(model, val_gen, class_indices):\n",
    "    # Obtener todas las imágenes y etiquetas verdaderas de validación\n",
    "    val_gen.reset()\n",
    "    pasos_validacion = np.ceil(val_gen.samples / val_gen.batch_size)\n",
    "    t0 = time.time()\n",
    "    preds_prob = model.predict(val_gen, steps=pasos_validacion, verbose=1)\n",
    "    tiempo_inferencia = time.time() - t0\n",
    "\n",
    "    # Convertir probabilidades a etiquetas predichas\n",
    "    preds = np.argmax(preds_prob, axis=1)\n",
    "    y_true = val_gen.classes\n",
    "\n",
    "    # Matriz de confusión\n",
    "    cm = confusion_matrix(y_true, preds)\n",
    "    report = classification_report(y_true, preds, target_names=list(class_indices.keys()))\n",
    "\n",
    "    return cm, report, tiempo_inferencia"
   ]
  },
  {
   "cell_type": "markdown",
   "metadata": {},
   "source": [
    "### **10. Función para graficar matriz de confusión**"
   ]
  },
  {
   "cell_type": "markdown",
   "metadata": {},
   "source": [
    "Se dibuja un heatmap de la matriz de confusión utilizando la biblioteca seaborn."
   ]
  },
  {
   "cell_type": "code",
   "execution_count": null,
   "metadata": {},
   "outputs": [],
   "source": [
    "def plot_confusion_matrix(cm, class_names, cmap='Blues'):\n",
    "    plt.figure(figsize=(8, 6))\n",
    "    sns.heatmap(cm, annot=True, fmt='d', cmap=cmap,\n",
    "                xticklabels=class_names, yticklabels=class_names)\n",
    "    plt.xlabel('Predicción')\n",
    "    plt.ylabel('Verdadero')\n",
    "    plt.title('Matriz de Confusión')\n",
    "    plt.show()"
   ]
  },
  {
   "cell_type": "markdown",
   "metadata": {},
   "source": [
    "### **11. Funcion para comparar métricas en un DataFrame**"
   ]
  },
  {
   "cell_type": "markdown",
   "metadata": {},
   "source": [
    "Se crea una función que recibe un diccionario con resultados de distintos modelos y devuelve un DataFrame. Cada clave del dict debe ser el nombre del modelo, y el valor otro dict con métricas."
   ]
  },
  {
   "cell_type": "code",
   "execution_count": 12,
   "metadata": {},
   "outputs": [],
   "source": [
    "def crear_dataframe_resultados(resultados_dict):\n",
    "    filas = []\n",
    "    for modelo_nombre, met in resultados_dict.items():\n",
    "        fila = {\n",
    "            \"Modelo\": modelo_nombre,\n",
    "            \"Tiempo Entrenamiento (s)\": met[\"tiempo_entrenamiento\"],\n",
    "            \"Tiempo Inferencia (s)\": met[\"tiempo_inferencia\"],\n",
    "            \"Accuracy\": met[\"accuracy\"],\n",
    "            \"F1-score macro\": met[\"f1_macro\"]\n",
    "        }\n",
    "        filas.append(fila)\n",
    "    return pd.DataFrame(filas)"
   ]
  },
  {
   "cell_type": "markdown",
   "metadata": {},
   "source": [
    "### **12. Ejecución Paso a Paso**"
   ]
  },
  {
   "cell_type": "code",
   "execution_count": null,
   "metadata": {},
   "outputs": [
    {
     "name": "stdout",
     "output_type": "stream",
     "text": [
      "Found 158 images belonging to 2 classes.\n",
      "Found 38 images belonging to 2 classes.\n",
      "Epoch 1/20\n",
      "5/5 [==============================] - 10s 2s/step - loss: 7.9042 - accuracy: 0.5443 - val_loss: 1.2059 - val_accuracy: 0.5000\n",
      "Epoch 2/20\n",
      "5/5 [==============================] - 6s 1s/step - loss: 3.5098 - accuracy: 0.6835 - val_loss: 1.1972 - val_accuracy: 0.5000\n",
      "Epoch 3/20\n",
      "5/5 [==============================] - 6s 1s/step - loss: 2.2316 - accuracy: 0.7848 - val_loss: 1.1530 - val_accuracy: 0.7632\n",
      "Epoch 4/20\n",
      "5/5 [==============================] - 5s 965ms/step - loss: 1.3909 - accuracy: 0.8608 - val_loss: 1.1299 - val_accuracy: 0.8158\n",
      "Epoch 5/20\n",
      "5/5 [==============================] - 5s 1s/step - loss: 1.2560 - accuracy: 0.8987 - val_loss: 1.1137 - val_accuracy: 0.6579\n",
      "Epoch 6/20\n",
      "5/5 [==============================] - 6s 1s/step - loss: 0.7427 - accuracy: 0.9557 - val_loss: 1.1233 - val_accuracy: 0.6842\n",
      "Epoch 7/20\n",
      "5/5 [==============================] - 5s 957ms/step - loss: 0.6532 - accuracy: 0.9557 - val_loss: 1.1445 - val_accuracy: 0.5000\n",
      "Epoch 8/20\n",
      "5/5 [==============================] - 6s 1s/step - loss: 0.6488 - accuracy: 0.9747 - val_loss: 1.1441 - val_accuracy: 0.5526\n",
      "Epoch 9/20\n",
      "5/5 [==============================] - 5s 1s/step - loss: 0.5767 - accuracy: 0.9747 - val_loss: 1.1636 - val_accuracy: 0.5000\n",
      "Epoch 10/20\n",
      "5/5 [==============================] - 5s 1s/step - loss: 0.5844 - accuracy: 0.9620 - val_loss: 1.2210 - val_accuracy: 0.5000\n",
      "Epoch 11/20\n",
      "5/5 [==============================] - 6s 1s/step - loss: 0.5274 - accuracy: 0.9810 - val_loss: 1.1593 - val_accuracy: 0.5000\n",
      "Epoch 12/20\n",
      "5/5 [==============================] - 6s 1s/step - loss: 0.4889 - accuracy: 0.9937 - val_loss: 1.1417 - val_accuracy: 0.5789\n",
      "Epoch 13/20\n",
      "5/5 [==============================] - 5s 1s/step - loss: 0.5061 - accuracy: 0.9873 - val_loss: 1.1614 - val_accuracy: 0.5000\n",
      "Epoch 14/20\n",
      "5/5 [==============================] - 5s 1s/step - loss: 0.5061 - accuracy: 0.9937 - val_loss: 1.1397 - val_accuracy: 0.5789\n",
      "Epoch 15/20\n",
      "5/5 [==============================] - 5s 1s/step - loss: 0.4925 - accuracy: 0.9873 - val_loss: 1.1148 - val_accuracy: 0.5789\n",
      "Epoch 16/20\n",
      "5/5 [==============================] - 5s 998ms/step - loss: 0.4857 - accuracy: 0.9937 - val_loss: 1.1035 - val_accuracy: 0.6053\n",
      "Epoch 17/20\n",
      "5/5 [==============================] - 6s 1s/step - loss: 0.5036 - accuracy: 0.9873 - val_loss: 1.1059 - val_accuracy: 0.6053\n",
      "Epoch 18/20\n",
      "5/5 [==============================] - 6s 1s/step - loss: 0.5274 - accuracy: 0.9747 - val_loss: 1.1301 - val_accuracy: 0.5263\n",
      "Epoch 19/20\n",
      "5/5 [==============================] - 5s 1s/step - loss: 0.5510 - accuracy: 0.9684 - val_loss: 1.0840 - val_accuracy: 0.6316\n",
      "Epoch 20/20\n",
      "5/5 [==============================] - 6s 1s/step - loss: 0.5138 - accuracy: 0.9747 - val_loss: 1.1363 - val_accuracy: 0.5263\n",
      "2/2 [==============================] - 1s 50ms/step\n",
      "=== Classification Report CNN base ===\n",
      "                     precision    recall  f1-score   support\n",
      "\n",
      "Tomato-Early-blight       0.51      1.00      0.68        19\n",
      "     Tomato-Healthy       1.00      0.05      0.10        19\n",
      "\n",
      "           accuracy                           0.53        38\n",
      "          macro avg       0.76      0.53      0.39        38\n",
      "       weighted avg       0.76      0.53      0.39        38\n",
      "\n"
     ]
    },
    {
     "data": {
      "image/png": "[encoded data removed]",
      "text/plain": [
       "<Figure size 800x600 with 2 Axes>"
      ]
     },
     "metadata": {},
     "output_type": "display_data"
    },
    {
     "name": "stdout",
     "output_type": "stream",
     "text": [
      "Epoch 1/20\n",
      "5/5 [==============================] - 8s 969ms/step - loss: 0.9830 - accuracy: 0.4747 - val_loss: 0.5671 - val_accuracy: 0.6842\n",
      "Epoch 2/20\n",
      "5/5 [==============================] - 4s 714ms/step - loss: 0.7611 - accuracy: 0.6203 - val_loss: 0.4613 - val_accuracy: 0.7895\n",
      "Epoch 3/20\n",
      "5/5 [==============================] - 4s 717ms/step - loss: 0.7177 - accuracy: 0.6519 - val_loss: 0.3858 - val_accuracy: 0.8684\n",
      "Epoch 4/20\n",
      "5/5 [==============================] - 4s 688ms/step - loss: 0.5489 - accuracy: 0.7152 - val_loss: 0.3365 - val_accuracy: 0.8684\n",
      "Epoch 5/20\n",
      "5/5 [==============================] - 4s 703ms/step - loss: 0.4452 - accuracy: 0.8291 - val_loss: 0.3021 - val_accuracy: 0.8684\n",
      "Epoch 6/20\n",
      "5/5 [==============================] - 3s 677ms/step - loss: 0.4133 - accuracy: 0.8038 - val_loss: 0.2753 - val_accuracy: 0.8684\n",
      "Epoch 7/20\n",
      "5/5 [==============================] - 3s 686ms/step - loss: 0.4194 - accuracy: 0.7975 - val_loss: 0.2495 - val_accuracy: 0.8684\n",
      "Epoch 8/20\n",
      "5/5 [==============================] - 3s 671ms/step - loss: 0.3663 - accuracy: 0.8608 - val_loss: 0.2234 - val_accuracy: 0.9474\n",
      "Epoch 9/20\n",
      "5/5 [==============================] - 3s 663ms/step - loss: 0.2969 - accuracy: 0.8734 - val_loss: 0.2037 - val_accuracy: 0.9737\n",
      "Epoch 10/20\n",
      "5/5 [==============================] - 3s 676ms/step - loss: 0.3313 - accuracy: 0.8861 - val_loss: 0.1919 - val_accuracy: 0.9737\n",
      "Epoch 11/20\n",
      "5/5 [==============================] - 4s 706ms/step - loss: 0.2727 - accuracy: 0.8797 - val_loss: 0.1807 - val_accuracy: 0.9737\n",
      "Epoch 12/20\n",
      "5/5 [==============================] - 4s 696ms/step - loss: 0.2604 - accuracy: 0.9051 - val_loss: 0.1737 - val_accuracy: 0.9737\n",
      "Epoch 13/20\n",
      "5/5 [==============================] - 4s 721ms/step - loss: 0.2639 - accuracy: 0.9114 - val_loss: 0.1687 - val_accuracy: 0.9737\n",
      "Epoch 14/20\n",
      "5/5 [==============================] - 4s 720ms/step - loss: 0.2222 - accuracy: 0.8861 - val_loss: 0.1662 - val_accuracy: 0.9737\n",
      "Epoch 15/20\n",
      "5/5 [==============================] - 4s 712ms/step - loss: 0.2141 - accuracy: 0.9051 - val_loss: 0.1575 - val_accuracy: 0.9737\n",
      "Epoch 16/20\n",
      "5/5 [==============================] - 4s 692ms/step - loss: 0.2346 - accuracy: 0.9114 - val_loss: 0.1473 - val_accuracy: 0.9737\n",
      "Epoch 17/20\n",
      "5/5 [==============================] - 3s 697ms/step - loss: 0.1898 - accuracy: 0.9051 - val_loss: 0.1343 - val_accuracy: 0.9737\n",
      "Epoch 18/20\n",
      "5/5 [==============================] - 3s 687ms/step - loss: 0.1852 - accuracy: 0.9304 - val_loss: 0.1280 - val_accuracy: 0.9737\n",
      "Epoch 19/20\n",
      "5/5 [==============================] - 4s 693ms/step - loss: 0.2233 - accuracy: 0.9114 - val_loss: 0.1142 - val_accuracy: 0.9737\n",
      "Epoch 20/20\n",
      "5/5 [==============================] - 4s 702ms/step - loss: 0.2434 - accuracy: 0.9114 - val_loss: 0.1032 - val_accuracy: 0.9737\n",
      "2/2 [==============================] - 2s 75ms/step\n",
      "=== Classification Report Transfer Learning ===\n",
      "                     precision    recall  f1-score   support\n",
      "\n",
      "Tomato-Early-blight       0.95      1.00      0.97        19\n",
      "     Tomato-Healthy       1.00      0.95      0.97        19\n",
      "\n",
      "           accuracy                           0.97        38\n",
      "          macro avg       0.97      0.97      0.97        38\n",
      "       weighted avg       0.97      0.97      0.97        38\n",
      "\n"
     ]
    },
    {
     "data": {
      "image/png": "[encoded data removed]",
      "text/plain": [
       "<Figure size 800x600 with 2 Axes>"
      ]
     },
     "metadata": {},
     "output_type": "display_data"
    },
    {
     "name": "stdout",
     "output_type": "stream",
     "text": [
      "2/2 [==============================] - 1s 61ms/step\n",
      "5/5 [==============================] - 3s 555ms/step\n",
      "=== Classification Report SVM sobre features CNN ===\n",
      "                     precision    recall  f1-score   support\n",
      "\n",
      "Tomato-Early-blight       0.00      0.00      0.00        19\n",
      "     Tomato-Healthy       0.50      1.00      0.67        19\n",
      "\n",
      "           accuracy                           0.50        38\n",
      "          macro avg       0.25      0.50      0.33        38\n",
      "       weighted avg       0.25      0.50      0.33        38\n",
      "\n"
     ]
    },
    {
     "name": "stderr",
     "output_type": "stream",
     "text": [
      "c:\\Users\\Victo\\anaconda3\\envs\\computer-vision\\lib\\site-packages\\sklearn\\metrics\\_classification.py:1565: UndefinedMetricWarning: Precision is ill-defined and being set to 0.0 in labels with no predicted samples. Use `zero_division` parameter to control this behavior.\n",
      "  _warn_prf(average, modifier, f\"{metric.capitalize()} is\", len(result))\n",
      "c:\\Users\\Victo\\anaconda3\\envs\\computer-vision\\lib\\site-packages\\sklearn\\metrics\\_classification.py:1565: UndefinedMetricWarning: Precision is ill-defined and being set to 0.0 in labels with no predicted samples. Use `zero_division` parameter to control this behavior.\n",
      "  _warn_prf(average, modifier, f\"{metric.capitalize()} is\", len(result))\n",
      "c:\\Users\\Victo\\anaconda3\\envs\\computer-vision\\lib\\site-packages\\sklearn\\metrics\\_classification.py:1565: UndefinedMetricWarning: Precision is ill-defined and being set to 0.0 in labels with no predicted samples. Use `zero_division` parameter to control this behavior.\n",
      "  _warn_prf(average, modifier, f\"{metric.capitalize()} is\", len(result))\n"
     ]
    },
    {
     "data": {
      "image/png": "[encoded data removed]",
      "text/plain": [
       "<Figure size 800x600 with 2 Axes>"
      ]
     },
     "metadata": {},
     "output_type": "display_data"
    },
    {
     "name": "stdout",
     "output_type": "stream",
     "text": [
      "=== Comparativa de resultados ===\n",
      "              Modelo  Tiempo Entrenamiento (s)  Tiempo Inferencia (s)  \\\n",
      "0           CNN base                117.635877               0.671495   \n",
      "1  Transfer Learning                 75.527038               1.872252   \n",
      "\n",
      "   Accuracy F1-score macro  \n",
      "0  0.526316           None  \n",
      "1  0.973684           None  \n"
     ]
    }
   ],
   "source": [
    "if __name__ == \"__main__\":\n",
    "\n",
    "    # 10.1. Se carga los generadores de datos\n",
    "    train_gen, val_gen = cargar_dataset(\n",
    "        ruta=config[\"ruta\"],\n",
    "        target_size=config[\"target_size\"],\n",
    "        batch_size=config[\"batch_size\"],\n",
    "        validation_split=config[\"validation_split\"],\n",
    "        seed=config[\"seed\"]\n",
    "    )\n",
    "    num_classes = len(train_gen.class_indices)\n",
    "    input_shape = config[\"target_size\"] + (3,)\n",
    "\n",
    "    # 10.2. Se entrenar CNN desde cero\n",
    "    modelo_cnn = crear_modelo_cnn(\n",
    "        input_shape=input_shape,\n",
    "        num_classes=num_classes,\n",
    "        dropout_rate=config[\"dropout_rate\"]\n",
    "    )\n",
    "    historial_cnn, tiempo_cnn = entrenar_modelo(\n",
    "        modelo_cnn, train_gen, val_gen, config[\"epochs\"]\n",
    "    )\n",
    "    cm_cnn, report_cnn, tiempo_inf_cnn = evaluar_modelo(\n",
    "        modelo_cnn, val_gen, train_gen.class_indices\n",
    "    )\n",
    "    print(\"=== Classification Report CNN base ===\")\n",
    "    print(report_cnn)\n",
    "    plot_confusion_matrix(cm_cnn, list(train_gen.class_indices.keys()))\n",
    "\n",
    "    # 10.3. Se entrena el modelo con Transfer Learning (MobileNetV2)\n",
    "    modelo_tl = crear_modelo_transfer_learning(\n",
    "        input_shape=input_shape,\n",
    "        num_classes=num_classes,\n",
    "        dropout_rate=config[\"dropout_rate\"],\n",
    "        learning_rate=config[\"learning_rate\"]\n",
    "    )\n",
    "    historial_tl, tiempo_tl = entrenar_modelo(\n",
    "        modelo_tl, train_gen, val_gen, config[\"epochs\"]\n",
    "    )\n",
    "    cm_tl, report_tl, tiempo_inf_tl = evaluar_modelo(\n",
    "        modelo_tl, val_gen, train_gen.class_indices\n",
    "    )\n",
    "    print(\"=== Classification Report Transfer Learning ===\")\n",
    "    print(report_tl)\n",
    "    plot_confusion_matrix(cm_tl, list(train_gen.class_indices.keys()))\n",
    "\n",
    "    # 10.4. Se extrae features y se entrena un SVM\n",
    "    from sklearn.svm import SVC\n",
    "    # 10.4.1. Se extrae features (ej: el flatten de modelo_cnn)\n",
    "    extractor = tf.keras.Model(\n",
    "        inputs=modelo_cnn.input,\n",
    "        outputs=modelo_cnn.get_layer(index=-3).output  # Se puede ajustar el índice según la capa Flatten\n",
    "    )\n",
    "\n",
    "    # Obtención de todas las imágenes de validación en un array\n",
    "    val_gen.reset()\n",
    "    pasos_val = np.ceil(val_gen.samples / val_gen.batch_size)\n",
    "    X_val = extractor.predict(val_gen, steps=pasos_val, verbose=1)\n",
    "    y_val = val_gen.classes\n",
    "\n",
    "    # Extracción de features de entrenamiento\n",
    "    train_gen.reset()\n",
    "    pasos_train = np.ceil(train_gen.samples / train_gen.batch_size)\n",
    "    X_train = extractor.predict(train_gen, steps=pasos_train, verbose=1)\n",
    "    y_train = train_gen.classes\n",
    "\n",
    "    # 10.4.2. Entrenamiento SVM\n",
    "    svm_clf = SVC(kernel='rbf', C=1.0, gamma='scale', probability=True)\n",
    "    t0_svm = time.time()\n",
    "    svm_clf.fit(X_train, y_train)\n",
    "    tiempo_svm_train = time.time() - t0_svm\n",
    "\n",
    "    # 10.4.3. Evaluación de SVM\n",
    "    t0_svm_inf = time.time()\n",
    "    y_pred_svm = svm_clf.predict(X_val)\n",
    "    tiempo_svm_inf = time.time() - t0_svm_inf\n",
    "\n",
    "    cm_svm = confusion_matrix(y_val, y_pred_svm)\n",
    "    report_svm = classification_report(y_val, y_pred_svm,\n",
    "                                       target_names=list(train_gen.class_indices.keys()))\n",
    "    print(\"=== Classification Report SVM sobre features CNN ===\")\n",
    "    print(report_svm)\n",
    "    plot_confusion_matrix(cm_svm, list(train_gen.class_indices.keys()))\n",
    " \n",
    "\n",
    "    # 10.5. Se crea el DataFrame comparativo de resultados\n",
    "    resultados = {\n",
    "        \"CNN base\": {\n",
    "            \"tiempo_entrenamiento\": tiempo_cnn,\n",
    "            \"tiempo_inferencia\": tiempo_inf_cnn,\n",
    "            \"accuracy\": historial_cnn.history[\"val_accuracy\"][-1],\n",
    "            \"f1_macro\": None  # Se puede calcular el f1_macro manualmente a partir del report_cnn\n",
    "        },\n",
    "        \"Transfer Learning\": {\n",
    "            \"tiempo_entrenamiento\": tiempo_tl,\n",
    "            \"tiempo_inferencia\": tiempo_inf_tl,\n",
    "            \"accuracy\": historial_tl.history[\"val_accuracy\"][-1],\n",
    "            \"f1_macro\": None  # Calculo manual\n",
    "        }\n",
    "    }\n",
    "\n",
    "    df_comparativo = crear_dataframe_resultados(resultados)\n",
    "    print(\"=== Comparativa de resultados ===\")\n",
    "    print(df_comparativo)"
   ]
  }
 ],
 "metadata": {
  "kernelspec": {
   "display_name": "computer-vision",
   "language": "python",
   "name": "python3"
  },
  "language_info": {
   "codemirror_mode": {
    "name": "ipython",
    "version": 3
   },
   "file_extension": ".py",
   "mimetype": "text/x-python",
   "name": "python",
   "nbconvert_exporter": "python",
   "pygments_lexer": "ipython3",
   "version": "3.10.13"
  },
  "orig_nbformat": 4
 },
 "nbformat": 4,
 "nbformat_minor": 2
}
